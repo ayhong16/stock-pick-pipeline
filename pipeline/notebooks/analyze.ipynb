{
 "cells": [
  {
   "cell_type": "markdown",
   "id": "71465730-02bc-4917-976e-0bf10437047b",
   "metadata": {
    "tags": []
   },
   "source": [
    "# Sentiment Analysis"
   ]
  },
  {
   "cell_type": "code",
   "execution_count": 1,
   "id": "38779abc-eb15-4496-9cb8-8e6c1952c294",
   "metadata": {},
   "outputs": [
    {
     "name": "stdout",
     "output_type": "stream",
     "text": [
      "Collecting datasets\n",
      "  Downloading datasets-2.18.0-py3-none-any.whl (510 kB)\n",
      "     |████████████████████████████████| 510 kB 3.6 MB/s            \n",
      "\u001b[?25hCollecting multiprocess\n",
      "  Downloading multiprocess-0.70.16-py39-none-any.whl (133 kB)\n",
      "     |████████████████████████████████| 133 kB 43.9 MB/s            \n",
      "\u001b[?25hCollecting fsspec[http]<=2024.2.0,>=2023.1.0\n",
      "  Downloading fsspec-2024.2.0-py3-none-any.whl (170 kB)\n",
      "     |████████████████████████████████| 170 kB 80.3 MB/s            \n",
      "\u001b[?25hRequirement already satisfied: dill<0.3.9,>=0.3.0 in /opt/conda/lib/python3.9/site-packages (from datasets) (0.3.4)\n",
      "Requirement already satisfied: pandas in /opt/conda/lib/python3.9/site-packages (from datasets) (1.3.5)\n",
      "Collecting pyarrow>=12.0.0\n",
      "  Downloading pyarrow-15.0.2-cp39-cp39-manylinux_2_28_x86_64.whl (38.3 MB)\n",
      "     |████████████████████████████████| 38.3 MB 88.6 MB/s            \n",
      "\u001b[?25hCollecting filelock\n",
      "  Downloading filelock-3.13.4-py3-none-any.whl (11 kB)\n",
      "Requirement already satisfied: requests>=2.19.0 in /opt/conda/lib/python3.9/site-packages (from datasets) (2.26.0)\n",
      "Requirement already satisfied: packaging in /opt/conda/lib/python3.9/site-packages (from datasets) (21.3)\n",
      "Collecting huggingface-hub>=0.19.4\n",
      "  Downloading huggingface_hub-0.22.2-py3-none-any.whl (388 kB)\n",
      "     |████████████████████████████████| 388 kB 73.6 MB/s            \n",
      "\u001b[?25hRequirement already satisfied: tqdm>=4.62.1 in /opt/conda/lib/python3.9/site-packages (from datasets) (4.62.3)\n",
      "Requirement already satisfied: numpy>=1.17 in /opt/conda/lib/python3.9/site-packages (from datasets) (1.21.5)\n",
      "Requirement already satisfied: pyyaml>=5.1 in /opt/conda/lib/python3.9/site-packages (from datasets) (6.0)\n",
      "Collecting xxhash\n",
      "  Downloading xxhash-3.4.1-cp39-cp39-manylinux_2_17_x86_64.manylinux2014_x86_64.whl (193 kB)\n",
      "     |████████████████████████████████| 193 kB 71.3 MB/s            \n",
      "\u001b[?25hRequirement already satisfied: aiohttp in /opt/conda/lib/python3.9/site-packages (from datasets) (3.8.1)\n",
      "Collecting pyarrow-hotfix\n",
      "  Downloading pyarrow_hotfix-0.6-py3-none-any.whl (7.9 kB)\n",
      "Requirement already satisfied: multidict<7.0,>=4.5 in /opt/conda/lib/python3.9/site-packages (from aiohttp->datasets) (5.2.0)\n",
      "Requirement already satisfied: charset-normalizer<3.0,>=2.0 in /opt/conda/lib/python3.9/site-packages (from aiohttp->datasets) (2.0.9)\n",
      "Requirement already satisfied: async-timeout<5.0,>=4.0.0a3 in /opt/conda/lib/python3.9/site-packages (from aiohttp->datasets) (4.0.2)\n",
      "Requirement already satisfied: attrs>=17.3.0 in /opt/conda/lib/python3.9/site-packages (from aiohttp->datasets) (21.2.0)\n",
      "Requirement already satisfied: yarl<2.0,>=1.0 in /opt/conda/lib/python3.9/site-packages (from aiohttp->datasets) (1.7.2)\n",
      "Requirement already satisfied: frozenlist>=1.1.1 in /opt/conda/lib/python3.9/site-packages (from aiohttp->datasets) (1.2.0)\n",
      "Requirement already satisfied: aiosignal>=1.1.2 in /opt/conda/lib/python3.9/site-packages (from aiohttp->datasets) (1.2.0)\n",
      "Requirement already satisfied: typing-extensions>=3.7.4.3 in /opt/conda/lib/python3.9/site-packages (from huggingface-hub>=0.19.4->datasets) (4.0.1)\n",
      "Requirement already satisfied: pyparsing!=3.0.5,>=2.0.2 in /opt/conda/lib/python3.9/site-packages (from packaging->datasets) (3.0.6)\n",
      "Requirement already satisfied: idna<4,>=2.5 in /opt/conda/lib/python3.9/site-packages (from requests>=2.19.0->datasets) (3.1)\n",
      "Requirement already satisfied: certifi>=2017.4.17 in /opt/conda/lib/python3.9/site-packages (from requests>=2.19.0->datasets) (2021.10.8)\n",
      "Requirement already satisfied: urllib3<1.27,>=1.21.1 in /opt/conda/lib/python3.9/site-packages (from requests>=2.19.0->datasets) (1.26.7)\n",
      "Collecting dill<0.3.9,>=0.3.0\n",
      "  Downloading dill-0.3.8-py3-none-any.whl (116 kB)\n",
      "     |████████████████████████████████| 116 kB 92.4 MB/s            \n",
      "\u001b[?25hRequirement already satisfied: python-dateutil>=2.7.3 in /opt/conda/lib/python3.9/site-packages (from pandas->datasets) (2.8.2)\n",
      "Requirement already satisfied: pytz>=2017.3 in /opt/conda/lib/python3.9/site-packages (from pandas->datasets) (2021.3)\n",
      "Requirement already satisfied: six>=1.5 in /opt/conda/lib/python3.9/site-packages (from python-dateutil>=2.7.3->pandas->datasets) (1.15.0)\n",
      "Installing collected packages: fsspec, filelock, dill, xxhash, pyarrow-hotfix, pyarrow, multiprocess, huggingface-hub, datasets\n",
      "  Attempting uninstall: fsspec\n",
      "    Found existing installation: fsspec 2021.11.1\n",
      "    Uninstalling fsspec-2021.11.1:\n",
      "      Successfully uninstalled fsspec-2021.11.1\n",
      "  Attempting uninstall: dill\n",
      "    Found existing installation: dill 0.3.4\n",
      "    Uninstalling dill-0.3.4:\n",
      "      Successfully uninstalled dill-0.3.4\n",
      "Successfully installed datasets-2.18.0 dill-0.3.8 filelock-3.13.4 fsspec-2024.2.0 huggingface-hub-0.22.2 multiprocess-0.70.16 pyarrow-15.0.2 pyarrow-hotfix-0.6 xxhash-3.4.1\n"
     ]
    }
   ],
   "source": [
    "!pip install datasets"
   ]
  },
  {
   "cell_type": "code",
   "execution_count": 2,
   "id": "0086ed18-6333-4115-b873-d72b33e63111",
   "metadata": {},
   "outputs": [
    {
     "name": "stdout",
     "output_type": "stream",
     "text": [
      "Collecting transformers\n",
      "  Downloading transformers-4.39.3-py3-none-any.whl (8.8 MB)\n",
      "     |████████████████████████████████| 8.8 MB 3.8 MB/s            \n",
      "\u001b[?25hRequirement already satisfied: tqdm>=4.27 in /opt/conda/lib/python3.9/site-packages (from transformers) (4.62.3)\n",
      "Requirement already satisfied: huggingface-hub<1.0,>=0.19.3 in /opt/conda/lib/python3.9/site-packages (from transformers) (0.22.2)\n",
      "Collecting safetensors>=0.4.1\n",
      "  Downloading safetensors-0.4.3-cp39-cp39-manylinux_2_17_x86_64.manylinux2014_x86_64.whl (1.2 MB)\n",
      "     |████████████████████████████████| 1.2 MB 31.6 MB/s            \n",
      "\u001b[?25hRequirement already satisfied: pyyaml>=5.1 in /opt/conda/lib/python3.9/site-packages (from transformers) (6.0)\n",
      "Requirement already satisfied: packaging>=20.0 in /opt/conda/lib/python3.9/site-packages (from transformers) (21.3)\n",
      "Collecting regex!=2019.12.17\n",
      "  Downloading regex-2024.4.16-cp39-cp39-manylinux_2_17_x86_64.manylinux2014_x86_64.whl (773 kB)\n",
      "     |████████████████████████████████| 773 kB 89.0 MB/s            \n",
      "\u001b[?25hRequirement already satisfied: requests in /opt/conda/lib/python3.9/site-packages (from transformers) (2.26.0)\n",
      "Requirement already satisfied: numpy>=1.17 in /opt/conda/lib/python3.9/site-packages (from transformers) (1.21.5)\n",
      "Collecting tokenizers<0.19,>=0.14\n",
      "  Downloading tokenizers-0.15.2-cp39-cp39-manylinux_2_17_x86_64.manylinux2014_x86_64.whl (3.6 MB)\n",
      "     |████████████████████████████████| 3.6 MB 81.1 MB/s            \n",
      "\u001b[?25hRequirement already satisfied: filelock in /opt/conda/lib/python3.9/site-packages (from transformers) (3.13.4)\n",
      "Requirement already satisfied: typing-extensions>=3.7.4.3 in /opt/conda/lib/python3.9/site-packages (from huggingface-hub<1.0,>=0.19.3->transformers) (4.0.1)\n",
      "Requirement already satisfied: fsspec>=2023.5.0 in /opt/conda/lib/python3.9/site-packages (from huggingface-hub<1.0,>=0.19.3->transformers) (2024.2.0)\n",
      "Requirement already satisfied: pyparsing!=3.0.5,>=2.0.2 in /opt/conda/lib/python3.9/site-packages (from packaging>=20.0->transformers) (3.0.6)\n",
      "Requirement already satisfied: urllib3<1.27,>=1.21.1 in /opt/conda/lib/python3.9/site-packages (from requests->transformers) (1.26.7)\n",
      "Requirement already satisfied: certifi>=2017.4.17 in /opt/conda/lib/python3.9/site-packages (from requests->transformers) (2021.10.8)\n",
      "Requirement already satisfied: charset-normalizer~=2.0.0 in /opt/conda/lib/python3.9/site-packages (from requests->transformers) (2.0.9)\n",
      "Requirement already satisfied: idna<4,>=2.5 in /opt/conda/lib/python3.9/site-packages (from requests->transformers) (3.1)\n",
      "Installing collected packages: tokenizers, safetensors, regex, transformers\n",
      "Successfully installed regex-2024.4.16 safetensors-0.4.3 tokenizers-0.15.2 transformers-4.39.3\n"
     ]
    }
   ],
   "source": [
    "!pip install transformers"
   ]
  },
  {
   "cell_type": "markdown",
   "id": "ba461c34-f604-4673-93f7-49d7b7eeacb9",
   "metadata": {},
   "source": [
    "## Loading Classifier"
   ]
  },
  {
   "cell_type": "code",
   "execution_count": null,
   "id": "47ead45c-08e8-4ae6-9e83-cbd093f7c818",
   "metadata": {},
   "outputs": [],
   "source": [
    "import torch\n",
    "from transformers import pipeline\n",
    "import pandas as pd\n",
    "import torch\n",
    "import datasets\n",
    "from datasets import Dataset\n",
    "from transformers.pipelines.pt_utils import KeyDataset\n",
    "from tqdm.auto import tqdm\n",
    "import matplotlib.pyplot as plt\n",
    "import ast\n",
    "\n",
    "def get_model(model_name):\n",
    "    if torch.cuda.is_available():\n",
    "        print('Using GPU...')\n",
    "        classifier = pipeline(\"text-classification\", model=model_name, device=0)\n",
    "    else:\n",
    "        print('Using CPU...')\n",
    "        classifier = pipeline(\"text-classification\", model=model_name, device=-1)\n",
    "    return classifier\n",
    "\n",
    "def save_labels(df, output, filename, threshold, col_name):\n",
    "    final_labels = []\n",
    "    for labels in output:\n",
    "        if labels[0]['score'] < threshold:\n",
    "            final_labels.append('neutral')\n",
    "        else:\n",
    "            final_labels.append(labels[0]['label'].lower())\n",
    "    df[col_name] = final_labels\n",
    "\n",
    "    df.to_csv(filename, index=False)"
   ]
  },
  {
   "cell_type": "code",
   "execution_count": null,
   "id": "1b62ad0a-5bf7-47c6-8f6b-f45a78bf465c",
   "metadata": {},
   "outputs": [],
   "source": [
    "classifier = get_model(\"zhayunduo/roberta-base-stocktwits-finetuned\")"
   ]
  },
  {
   "cell_type": "code",
   "execution_count": 16,
   "id": "ccbf2c96-423f-44b9-a0fe-ad0027a23057",
   "metadata": {},
   "outputs": [
    {
     "data": {
      "text/plain": [
       "[{'label': 'Positive', 'score': 0.9985865354537964}]"
      ]
     },
     "execution_count": 16,
     "metadata": {},
     "output_type": "execute_result"
    }
   ],
   "source": [
    "classifier(\"NVDA holding gem_stone chart_increasing\")"
   ]
  },
  {
   "cell_type": "code",
   "execution_count": 17,
   "id": "1abc5def-4cee-403a-967b-1068b384f1f3",
   "metadata": {},
   "outputs": [
    {
     "name": "stdout",
     "output_type": "stream",
     "text": [
      "Using GPU...\n"
     ]
    }
   ],
   "source": [
    "classifier = get_model(\"ProsusAI/Finbert\")"
   ]
  },
  {
   "cell_type": "code",
   "execution_count": 18,
   "id": "3fb1b0ee-ff77-479c-a7ab-b50f2967b8a5",
   "metadata": {},
   "outputs": [
    {
     "data": {
      "text/plain": [
       "[{'label': 'neutral', 'score': 0.9257917404174805}]"
      ]
     },
     "execution_count": 18,
     "metadata": {},
     "output_type": "execute_result"
    }
   ],
   "source": [
    "classifier(\"NVDA shoots through the horizontal resistance of 13.11 and next resistance shall be 13.78\")"
   ]
  },
  {
   "cell_type": "markdown",
   "id": "5334d2ed-1998-47a7-9834-17139d2262d5",
   "metadata": {
    "tags": []
   },
   "source": [
    "## Analyzing News Headlines"
   ]
  },
  {
   "cell_type": "code",
   "execution_count": 68,
   "id": "050b240c-d39f-4b33-8ab4-a48641ec7a0b",
   "metadata": {},
   "outputs": [
    {
     "name": "stdout",
     "output_type": "stream",
     "text": [
      "Using GPU...\n"
     ]
    }
   ],
   "source": [
    "## Load model\n",
    "classifier = get_model(\"mrm8488/distilroberta-finetuned-financial-news-sentiment-analysis\")"
   ]
  },
  {
   "cell_type": "code",
   "execution_count": 67,
   "id": "407c087e-55bf-4520-941d-257dd8e528de",
   "metadata": {},
   "outputs": [],
   "source": [
    "## Loading csv\n",
    "news_df = pd.read_csv('meta_news_headlines.csv')"
   ]
  },
  {
   "cell_type": "code",
   "execution_count": 69,
   "id": "726629e3-f82d-4478-ad5e-618122f114af",
   "metadata": {},
   "outputs": [],
   "source": [
    "## Getting sentiments\n",
    "news_output = classifier(news_df[\"title\"].tolist(), top_k=None)"
   ]
  },
  {
   "cell_type": "code",
   "execution_count": 73,
   "id": "fedb2408-6967-4b01-839f-2f6d8736b0d6",
   "metadata": {},
   "outputs": [],
   "source": [
    "## Save news output\n",
    "pd.DataFrame(news_output).to_csv(\"meta_news_output.csv\", index=False)"
   ]
  },
  {
   "cell_type": "code",
   "execution_count": 74,
   "id": "e489bf76-0a1a-416b-8578-6725804179d6",
   "metadata": {},
   "outputs": [],
   "source": [
    "## Get raw output of news sentiment analysis\n",
    "def get_news_sentiment():\n",
    "    news_output_df = pd.read_csv(\"meta_news_output.csv\", header=None, skiprows=1)\n",
    "    news_output_df = news_output_df.applymap(lambda x: ast.literal_eval(x) if isinstance(x, str) else x)\n",
    "    news_output = news_output_df.to_dict(orient='records')\n",
    "    output = []\n",
    "    for trip in news_output:\n",
    "        first_dict = trip[0]\n",
    "        second_dict = trip[1]\n",
    "        third_dict = trip[2]\n",
    "        output.append([first_dict, second_dict, third_dict])\n",
    "    return output"
   ]
  },
  {
   "cell_type": "code",
   "execution_count": 75,
   "id": "0682c20e-bb6a-4ac0-9d01-64a8481e7f40",
   "metadata": {},
   "outputs": [],
   "source": [
    "## Saving to csv\n",
    "news_output = get_news_sentiment()\n",
    "save_labels(news_df, news_output, \"meta_news_sentiment.csv\", threshold=0, col_name=\"label\")"
   ]
  },
  {
   "cell_type": "markdown",
   "id": "4e864386-45e9-482b-a48f-2e5dc03f4e1d",
   "metadata": {},
   "source": [
    "## Analyzing StockTwits"
   ]
  },
  {
   "cell_type": "code",
   "execution_count": 37,
   "id": "8512da2d-4b8a-4f9c-8656-4a8375e36fa3",
   "metadata": {},
   "outputs": [
    {
     "name": "stdout",
     "output_type": "stream",
     "text": [
      "Using GPU...\n"
     ]
    }
   ],
   "source": [
    "## Load model\n",
    "classifier = get_model(\"zhayunduo/roberta-base-stocktwits-finetuned\")"
   ]
  },
  {
   "cell_type": "code",
   "execution_count": 61,
   "id": "a04bccd6-05ca-405b-be64-1f49317e5a68",
   "metadata": {},
   "outputs": [],
   "source": [
    "## Loading csv\n",
    "stocktwits_df = pd.read_csv('meta_stocktwits_final.csv')\n",
    "stocktwits_dataset = Dataset.from_pandas(stocktwits_df)"
   ]
  },
  {
   "cell_type": "code",
   "execution_count": 63,
   "id": "f76fcaf3-42c3-46ba-a56a-5d99563911fc",
   "metadata": {},
   "outputs": [
    {
     "name": "stdout",
     "output_type": "stream",
     "text": [
      "359908 data points already saved. Resuming classification...\n"
     ]
    },
    {
     "data": {
      "application/vnd.jupyter.widget-view+json": {
       "model_id": "63fc0041ddfb41ada5cd555560669992",
       "version_major": 2,
       "version_minor": 0
      },
      "text/plain": [
       "  0%|          | 0/359908 [00:00<?, ?it/s]"
      ]
     },
     "metadata": {},
     "output_type": "display_data"
    }
   ],
   "source": [
    "## Getting sentiments\n",
    "output_file = \"meta_stocktwits_output.csv\"\n",
    "\n",
    "try:\n",
    "    saved_data = pd.read_csv(output_file)\n",
    "    num_saved = len(saved_data)\n",
    "    print(f\"{num_saved} data points already saved. Resuming classification...\")\n",
    "except FileNotFoundError:\n",
    "    num_saved = 0\n",
    "    print(\"No existing saved data. Starting classification...\")\n",
    "\n",
    "stocktwits_output = []\n",
    "for i, out in enumerate(tqdm(classifier(KeyDataset(stocktwits_dataset, \"body_prepared\")[num_saved:], batch_size=32, top_k=None, truncation=True), total=len(stocktwits_dataset))):\n",
    "    stocktwits_output.append(out)\n",
    "    ## save output every 5000 data points\n",
    "    if (i + 1) % 5000 == 0:\n",
    "        pd.DataFrame(stocktwits_output).to_csv(output_file, mode='a', index=False, header=(i == 4999))\n",
    "        stocktwits_output = []\n",
    "    \n",
    "## save remaining outputs\n",
    "if stocktwits_output:\n",
    "    pd.DataFrame(stocktwits_output).to_csv(output_file, mode='a', index=False, header=False)"
   ]
  },
  {
   "cell_type": "code",
   "execution_count": 65,
   "id": "715f467c-5028-43f0-9573-17092d1d8559",
   "metadata": {},
   "outputs": [],
   "source": [
    "## Get raw output of stocktwits sentiment analysis\n",
    "def get_stocktwits_sentiment():\n",
    "    stocktwits_output_df = pd.read_csv(\"meta_stocktwits_output.csv\", header=None, skiprows=1)\n",
    "    stocktwits_output_df = stocktwits_output_df.applymap(lambda x: ast.literal_eval(x) if isinstance(x, str) else x)\n",
    "    stocktwits_output = stocktwits_output_df.to_dict(orient='records')\n",
    "    output = []\n",
    "    for pair in stocktwits_output:\n",
    "        first_dict = pair[0]\n",
    "        second_dict = pair[1]\n",
    "        output.append([first_dict, second_dict])\n",
    "    return output"
   ]
  },
  {
   "cell_type": "code",
   "execution_count": 66,
   "id": "745e5856-f572-43e4-8836-5a77c0e7e524",
   "metadata": {},
   "outputs": [],
   "source": [
    "## Saving to csv\n",
    "stocktwits_output = get_stocktwits_sentiment()\n",
    "save_labels(stocktwits_df, stocktwits_output, \"meta_stocktwits_sentiment.csv\", 0, col_name=\"raw label\")\n",
    "save_labels(stocktwits_df, stocktwits_output, \"meta_stocktwits_sentiment.csv\", .75, col_name=\"thresholded label\")"
   ]
  },
  {
   "cell_type": "markdown",
   "id": "85e6d88d-7854-49b3-a2b0-6c683f7c47f5",
   "metadata": {},
   "source": [
    "## Testing Sentiment Accuracy for StockTwits"
   ]
  },
  {
   "cell_type": "code",
   "execution_count": 9,
   "id": "2fac6eb9-a4dd-4b8b-8eef-6bd725ce8604",
   "metadata": {},
   "outputs": [],
   "source": [
    "user_labeled = pd.read_csv('nvda_stocktwits_final.csv')\n",
    "roberta_labeled = pd.read_csv('nvda_stocktwits_sentiment.csv', lineterminator='\\n')"
   ]
  },
  {
   "cell_type": "code",
   "execution_count": 38,
   "id": "3661aaeb-6979-4c72-96ee-90832288bb26",
   "metadata": {},
   "outputs": [],
   "source": [
    "def sample_labeled(roberta_labeled, save_csv=False):\n",
    "    sampled_roberta = roberta_labeled[roberta_labeled['sentiment'].isin(['negative', 'positive'])]\n",
    "    sampled_roberta = sampled_roberta.sample(n=10000)\n",
    "    if save_csv:\n",
    "        sampled_roberta.to_csv(\"nvda_sampled_roberta_labeled.csv\", index=False)\n",
    "    return sampled_roberta"
   ]
  },
  {
   "cell_type": "code",
   "execution_count": 39,
   "id": "59d23925-cf1b-48a1-ac18-1cf61b0959cb",
   "metadata": {},
   "outputs": [
    {
     "name": "stdout",
     "output_type": "stream",
     "text": [
      "Using GPU...\n"
     ]
    },
    {
     "data": {
      "application/vnd.jupyter.widget-view+json": {
       "model_id": "5c568f7770d44268b346cf81e4d6e5ae",
       "version_major": 2,
       "version_minor": 0
      },
      "text/plain": [
       "  0%|          | 0/20 [00:00<?, ?it/s]"
      ]
     },
     "metadata": {},
     "output_type": "display_data"
    }
   ],
   "source": [
    "classifier = get_model(\"zhayunduo/roberta-base-stocktwits-finetuned\")\n",
    "stocktwits_df = pd.read_csv('nvda_neutral_samples.csv')\n",
    "stocktwits_dataset = Dataset.from_pandas(stocktwits_df)\n",
    "stocktwits_output = []\n",
    "for out in tqdm(classifier(KeyDataset(stocktwits_dataset, \"body_prepared\"), batch_size=32, top_k=None, truncation=True), total=len(stocktwits_dataset)):\n",
    "    stocktwits_output.append(out)"
   ]
  },
  {
   "cell_type": "code",
   "execution_count": 65,
   "id": "84e60b3c-32b2-4f3c-992d-055a6363fcd6",
   "metadata": {},
   "outputs": [
    {
     "name": "stdout",
     "output_type": "stream",
     "text": [
      "Accuracy with threshold = 0: 0.0\n",
      "Accuracy with threshold = 0.6: 0.05\n",
      "Accuracy with threshold = 0.75: 0.2\n",
      "Accuracy with threshold = 0.8: 0.2\n",
      "Accuracy with threshold = 0.9: 0.3\n"
     ]
    }
   ],
   "source": [
    "## Get accuracies of unlabeled data with thresholding\n",
    "stocktwits_df = pd.read_csv('nvda_neutral_samples.csv')\n",
    "thresholds = [0, .6, .75, .8, .9]\n",
    "for threshold in thresholds:\n",
    "    save_labels(stocktwits_df, stocktwits_output, f\"nvda_stocktwits_sentiment_neutral_sample.csv\", threshold)\n",
    "    sample_roberta = pd.read_csv(f\"nvda_stocktwits_sentiment_neutral_sample.csv\", lineterminator='\\n')\n",
    "    # sampled_roberta = sample_labeled(roberta_labeled)\n",
    "    accuracy = (sample_roberta[\"sentiment\"] == sample_roberta[\"label\"]).sum() / len(sample_roberta)\n",
    "    print(f\"Accuracy with threshold = {threshold}: {accuracy}\")"
   ]
  },
  {
   "cell_type": "code",
   "execution_count": 67,
   "id": "846ff316-2432-48ac-bee4-80849d05def4",
   "metadata": {},
   "outputs": [
    {
     "name": "stdout",
     "output_type": "stream",
     "text": [
      "Accuracy with threshold = 0: 0.9075\n",
      "Accuracy with threshold = 0.6: 0.9043\n",
      "Accuracy with threshold = 0.75: 0.863\n",
      "Accuracy with threshold = 0.8: 0.8445\n",
      "Accuracy with threshold = 0.9: 0.8026\n"
     ]
    }
   ],
   "source": [
    "## Get accuracies of labeled data with thresholding\n",
    "stocktwits_df = pd.read_csv('nvda_stocktwits_final.csv')\n",
    "output = get_stocktwits_sentiment()\n",
    "thresholds = [0, .6, .75, .8, .9]\n",
    "for threshold in thresholds:\n",
    "    save_labels(stocktwits_df, output, f\"nvda_stocktwits_sentiment.csv\", threshold)\n",
    "    roberta_labeled = pd.read_csv(f\"nvda_stocktwits_sentiment.csv\", lineterminator='\\n')\n",
    "    sampled_roberta = sample_labeled(roberta_labeled)\n",
    "    accuracy = (sampled_roberta[\"sentiment\"] == sampled_roberta[\"label\"]).sum() / len(sampled_roberta)\n",
    "    print(f\"Accuracy with threshold = {threshold}: {accuracy}\")"
   ]
  },
  {
   "cell_type": "code",
   "execution_count": 80,
   "id": "e07410c8-78a6-49c9-9375-dc55d8a60479",
   "metadata": {},
   "outputs": [
    {
     "name": "stdout",
     "output_type": "stream",
     "text": [
      "Accuracy with threshold = 0: 0.37591089063149946\n",
      "Accuracy with threshold = 0.75: 0.41151629375142296\n"
     ]
    }
   ],
   "source": [
    "## Add columns for thresholding and non-thresholding of all data (threshold = .75)\n",
    "output = get_stocktwits_sentiment()\n",
    "\n",
    "threshold = 0\n",
    "stocktwits_df = pd.read_csv('nvda_stocktwits_final.csv')\n",
    "save_labels(stocktwits_df, output, f\"nvda_stocktwits_sentiment.csv\", threshold, \"raw label\")\n",
    "roberta_labeled = pd.read_csv(f\"nvda_stocktwits_sentiment.csv\", lineterminator='\\n')\n",
    "accuracy = (roberta_labeled[\"sentiment\"] == roberta_labeled[\"raw label\"]).sum() / len(roberta_labeled)\n",
    "print(f\"Accuracy with threshold = {threshold}: {accuracy}\")\n",
    "\n",
    "threshold = .75\n",
    "stocktwits_df = pd.read_csv(f\"nvda_stocktwits_sentiment.csv\", lineterminator='\\n')\n",
    "save_labels(stocktwits_df, output, f\"nvda_stocktwits_sentiment.csv\", threshold, \"thresholded label\")\n",
    "roberta_labeled = pd.read_csv(f\"nvda_stocktwits_sentiment.csv\", lineterminator='\\n')\n",
    "accuracy = (roberta_labeled[\"sentiment\"] == roberta_labeled[\"thresholded label\"]).sum() / len(roberta_labeled)\n",
    "print(f\"Accuracy with threshold = {threshold}: {accuracy}\")"
   ]
  },
  {
   "cell_type": "code",
   "execution_count": 10,
   "id": "0ca03147-c27b-4b66-8993-69d6d36af703",
   "metadata": {},
   "outputs": [],
   "source": [
    "def compute_accuracy(actual_df, predicted_df):\n",
    "    correct_predictions = (actual_df['label'] == predicted_df['label']).sum()\n",
    "    total_samples = len(actual_df)\n",
    "    accuracy = correct_predictions / total_samples\n",
    "    return accuracy"
   ]
  },
  {
   "cell_type": "code",
   "execution_count": null,
   "id": "c193d98b-4fc8-425b-a463-4d3681263700",
   "metadata": {},
   "outputs": [
    {
     "name": "stdout",
     "output_type": "stream",
     "text": [
      "Using GPU...\n"
     ]
    },
    {
     "data": {
      "application/vnd.jupyter.widget-view+json": {
       "model_id": "2681313d27a14b9b8886e64f06dd2be0",
       "version_major": 2,
       "version_minor": 0
      },
      "text/plain": [
       "config.json:   0%|          | 0.00/758 [00:00<?, ?B/s]"
      ]
     },
     "metadata": {},
     "output_type": "display_data"
    },
    {
     "data": {
      "application/vnd.jupyter.widget-view+json": {
       "model_id": "e6f3c0b33480430ea45adc3689cda9a5",
       "version_major": 2,
       "version_minor": 0
      },
      "text/plain": [
       "pytorch_model.bin:   0%|          | 0.00/438M [00:00<?, ?B/s]"
      ]
     },
     "metadata": {},
     "output_type": "display_data"
    },
    {
     "data": {
      "application/vnd.jupyter.widget-view+json": {
       "model_id": "02db45cec04b4f4aa3210cd302800b48",
       "version_major": 2,
       "version_minor": 0
      },
      "text/plain": [
       "tokenizer_config.json:   0%|          | 0.00/252 [00:00<?, ?B/s]"
      ]
     },
     "metadata": {},
     "output_type": "display_data"
    },
    {
     "data": {
      "application/vnd.jupyter.widget-view+json": {
       "model_id": "1847fa132b28448b8c2540d4d5056c4d",
       "version_major": 2,
       "version_minor": 0
      },
      "text/plain": [
       "vocab.txt:   0%|          | 0.00/232k [00:00<?, ?B/s]"
      ]
     },
     "metadata": {},
     "output_type": "display_data"
    },
    {
     "data": {
      "application/vnd.jupyter.widget-view+json": {
       "model_id": "38365b27a0ac48fe92ebcb08e4c7dc9d",
       "version_major": 2,
       "version_minor": 0
      },
      "text/plain": [
       "special_tokens_map.json:   0%|          | 0.00/112 [00:00<?, ?B/s]"
      ]
     },
     "metadata": {},
     "output_type": "display_data"
    }
   ],
   "source": [
    "finbert = get_model(\"ProsusAI/Finbert\")"
   ]
  },
  {
   "cell_type": "code",
   "execution_count": 9,
   "id": "ca9d16c5-2ebe-4da1-bcb5-b01d63b3c48d",
   "metadata": {},
   "outputs": [
    {
     "data": {
      "application/vnd.jupyter.widget-view+json": {
       "model_id": "d5abd31ae58a465788e9e9ed06582e27",
       "version_major": 2,
       "version_minor": 0
      },
      "text/plain": [
       "  0%|          | 0/10000 [00:00<?, ?it/s]"
      ]
     },
     "metadata": {},
     "output_type": "display_data"
    },
    {
     "name": "stdout",
     "output_type": "stream",
     "text": [
      "[{'label': 'neutral', 'score': 0.9510737061500549}, {'label': 'negative', 'score': 0.029156435281038284}, {'label': 'positive', 'score': 0.01976984180510044}]\n"
     ]
    }
   ],
   "source": [
    "# testing finbert\n",
    "user_labeled = []\n",
    "sampled_user_labeled = pd.read_csv('nvda_sampled_user_labeled.csv')\n",
    "sampled_user_labeled_dataset = Dataset.from_pandas(sampled_user_labeled)\n",
    "for out in tqdm(finbert(KeyDataset(sampled_user_labeled_dataset, \"text\"), batch_size=32, top_k=None, truncation=True), total=len(sampled_user_labeled_dataset)):\n",
    "    user_labeled.append(out)\n",
    "save_labels(sampled_user_labeled, user_labeled, \"nvda_sampled_stocktwits_sentiment.csv\")"
   ]
  },
  {
   "cell_type": "code",
   "execution_count": 15,
   "id": "36716583-2af8-4375-891a-0fc15367f728",
   "metadata": {},
   "outputs": [
    {
     "name": "stdout",
     "output_type": "stream",
     "text": [
      "0.1507\n"
     ]
    }
   ],
   "source": [
    "actual = pd.read_csv('nvda_sampled_user_labeled.csv')\n",
    "predicted = pd.read_csv(\"nvda_sampled_stocktwits_sentiment.csv\")\n",
    "print(compute_accuracy(actual, predicted))"
   ]
  },
  {
   "cell_type": "code",
   "execution_count": 14,
   "id": "f285ac6d-8e63-494f-88bb-01962178077f",
   "metadata": {},
   "outputs": [],
   "source": [
    "models = [\n",
    "    {\n",
    "        \"model_name\": \"ProsusAI/Finbert\",\n",
    "        \"short_name\": \"prosusai_finbert\"\n",
    "    },\n",
    "    {\n",
    "        \"model_name\": \"cardiffnlp/twitter-roberta-base-sentiment-latest\",\n",
    "        \"short_name\": \"twitter-roberta\"\n",
    "    },\n",
    "    {\n",
    "        \"model_name\": \"zhayunduo/roberta-base-stocktwits-finetuned\", \n",
    "        \"short_name\": \"roberta-stocktwits\"\n",
    "    },\n",
    "    {\n",
    "        \"model_name\": \"mrm8488/distilroberta-finetuned-financial-news-sentiment-analysis\",\n",
    "        \"short_name\": \"distilroberta-financial-news\"\n",
    "    },\n",
    "]\n",
    "\n",
    "def make_predictions(model, src, dst):\n",
    "    user_labeled = []\n",
    "    sampled_user_labeled = pd.read_csv(src)\n",
    "    sampled_user_labeled_dataset = Dataset.from_pandas(sampled_user_labeled)\n",
    "    for out in tqdm(model(KeyDataset(sampled_user_labeled_dataset, \"text\"), batch_size=32, top_k=None, truncation=True), total=len(sampled_user_labeled_dataset)):\n",
    "        user_labeled.append(out)\n",
    "    save_labels(sampled_user_labeled, user_labeled, dst)\n",
    "\n",
    "    \n",
    "def calc_accuracies(models):\n",
    "    accuracies = []\n",
    "    categories = []\n",
    "    for model_info in models:\n",
    "        model = get_model(model_info[\"model_name\"])\n",
    "        print(f\"Starting {model_info['short_name']}...\")\n",
    "        make_predictions(model, 'nvda_sampled_user_labeled.csv', f\"nvda_{model_info['short_name']}_sentiment.csv\")\n",
    "        actual = pd.read_csv('nvda_sampled_user_labeled.csv')\n",
    "        predicted = pd.read_csv(f\"nvda_{model_info['short_name']}_sentiment.csv\")\n",
    "        acc = compute_accuracy(actual, predicted)\n",
    "        accuracies.append(acc)\n",
    "        categories.append(model_info['short_name'])\n",
    "        print(f\"{model_info['short_name']} acc: {acc}\")\n",
    "        del model\n",
    "        torch.cuda.empty_cache()\n",
    "    plt.bar(categories, accuracies)\n",
    "    plt.xlabel(\"Model\")\n",
    "    plt.ylabel(\"Accuracy\")\n",
    "    plt.title(\"Model Accuracy Bar Chart\")\n",
    "    plt.tight_layout()\n",
    "    plt.show()    \n",
    "        "
   ]
  },
  {
   "cell_type": "code",
   "execution_count": null,
   "id": "25bcf26f-2fe1-4128-8be2-75fcd6d4fc2c",
   "metadata": {},
   "outputs": [],
   "source": [
    "calc_accuracies(models)"
   ]
  },
  {
   "cell_type": "code",
   "execution_count": 19,
   "id": "04d4a13f-fc9e-445e-bd4b-c642f4500728",
   "metadata": {},
   "outputs": [
    {
     "data": {
      "image/png": "[encoded data removed]",
      "text/plain": [
       "<Figure size 720x432 with 1 Axes>"
      ]
     },
     "metadata": {
      "needs_background": "light"
     },
     "output_type": "display_data"
    }
   ],
   "source": [
    "accuracies = [0.6787, 0.7182, 0.9092, 0.5766]\n",
    "categories = [\"prosusai_finbert\", \"twitter-roberta\", \"roberta-stocktwits\", \"distilroberta-financial-news\"]\n",
    "plt.figure(figsize=(10, 6)) \n",
    "bars = plt.bar(categories, accuracies)\n",
    "for bar, acc in zip(bars, accuracies):\n",
    "    plt.text(bar.get_x() + bar.get_width() / 2, bar.get_height(), f'{acc:.4f}', ha='center', va='bottom')\n",
    "plt.xlabel(\"Model\")\n",
    "plt.ylabel(\"Accuracy\")\n",
    "plt.title(\"StockTwits Sentiment Accuracy\")\n",
    "plt.tight_layout()\n",
    "plt.savefig(\"stocktwits-barchart.png\")\n",
    "plt.show() "
   ]
  },
  {
   "cell_type": "code",
   "execution_count": null,
   "id": "28b666ea-daf2-4266-b8e1-55e0f09098d1",
   "metadata": {},
   "outputs": [],
   "source": []
  }
 ],
 "metadata": {
  "kernelspec": {
   "display_name": "Python 3 (ipykernel)",
   "language": "python",
   "name": "python3"
  },
  "language_info": {
   "codemirror_mode": {
    "name": "ipython",
    "version": 3
   },
   "file_extension": ".py",
   "mimetype": "text/x-python",
   "name": "python",
   "nbconvert_exporter": "python",
   "pygments_lexer": "ipython3",
   "version": "3.9.7"
  },
  "toc-showcode": true,
  "toc-showtags": true
 },
 "nbformat": 4,
 "nbformat_minor": 5
}
