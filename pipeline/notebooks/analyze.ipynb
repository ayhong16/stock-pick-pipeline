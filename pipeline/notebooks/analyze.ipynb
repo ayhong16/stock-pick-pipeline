{
 "cells": [
  {
   "cell_type": "markdown",
   "id": "71465730-02bc-4917-976e-0bf10437047b",
   "metadata": {
    "tags": []
   },
   "source": [
    "# Sentiment Analysis"
   ]
  },
  {
   "cell_type": "markdown",
   "id": "ba461c34-f604-4673-93f7-49d7b7eeacb9",
   "metadata": {},
   "source": [
    "## Loading Classifier"
   ]
  },
  {
   "cell_type": "code",
   "execution_count": 2,
   "id": "47ead45c-08e8-4ae6-9e83-cbd093f7c818",
   "metadata": {},
   "outputs": [
    {
     "name": "stdout",
     "output_type": "stream",
     "text": [
      "Using GPU...\n"
     ]
    },
    {
     "data": {
      "application/vnd.jupyter.widget-view+json": {
       "model_id": "df4381cff78d4e259c00eb9425432908",
       "version_major": 2,
       "version_minor": 0
      },
      "text/plain": [
       "config.json:   0%|          | 0.00/758 [00:00<?, ?B/s]"
      ]
     },
     "metadata": {},
     "output_type": "display_data"
    },
    {
     "data": {
      "application/vnd.jupyter.widget-view+json": {
       "model_id": "63f017222ba849c7a828582ffc180bbb",
       "version_major": 2,
       "version_minor": 0
      },
      "text/plain": [
       "pytorch_model.bin:   0%|          | 0.00/438M [00:00<?, ?B/s]"
      ]
     },
     "metadata": {},
     "output_type": "display_data"
    },
    {
     "data": {
      "application/vnd.jupyter.widget-view+json": {
       "model_id": "8163732d34414dd8b08a6158fae9b3bc",
       "version_major": 2,
       "version_minor": 0
      },
      "text/plain": [
       "tokenizer_config.json:   0%|          | 0.00/252 [00:00<?, ?B/s]"
      ]
     },
     "metadata": {},
     "output_type": "display_data"
    },
    {
     "data": {
      "application/vnd.jupyter.widget-view+json": {
       "model_id": "62b3d963f06d49089eaecc92acfc8bd4",
       "version_major": 2,
       "version_minor": 0
      },
      "text/plain": [
       "vocab.txt:   0%|          | 0.00/232k [00:00<?, ?B/s]"
      ]
     },
     "metadata": {},
     "output_type": "display_data"
    },
    {
     "data": {
      "application/vnd.jupyter.widget-view+json": {
       "model_id": "81cc02579f874dcc894d91afde179bb5",
       "version_major": 2,
       "version_minor": 0
      },
      "text/plain": [
       "special_tokens_map.json:   0%|          | 0.00/112 [00:00<?, ?B/s]"
      ]
     },
     "metadata": {},
     "output_type": "display_data"
    }
   ],
   "source": [
    "import torch\n",
    "from transformers import pipeline\n",
    "import pandas as pd\n",
    "import torch\n",
    "import datasets\n",
    "from datasets import Dataset\n",
    "from transformers.pipelines.pt_utils import KeyDataset\n",
    "from tqdm.auto import tqdm\n",
    "\n",
    "if torch.cuda.is_available():\n",
    "    print('Using GPU...')\n",
    "    classifier = pipeline(\"text-classification\", model=\"ProsusAI/finbert\", device=0, )\n",
    "else:\n",
    "    print('Using CPU...')\n",
    "    classifier = pipeline(\"text-classification\", model=\"ProsusAI/finbert\", device=-1)"
   ]
  },
  {
   "cell_type": "code",
   "execution_count": 21,
   "id": "7784e684-6a8e-4f25-9782-e4372be2196b",
   "metadata": {},
   "outputs": [],
   "source": [
    "def save_labels(df, output, filename):\n",
    "    positive_scores = []\n",
    "    negative_scores = []\n",
    "    neutral_scores = []\n",
    "    final_labels = []\n",
    "\n",
    "    for labels in output:\n",
    "        positive_scores.append(labels[0]['score'])\n",
    "        negative_scores.append(labels[1]['score'])\n",
    "        neutral_scores.append(labels[2]['score'])\n",
    "        final_labels.append(max(labels, key=lambda x: x['score'])['label'])\n",
    "\n",
    "    df[\"positive\"] = positive_scores\n",
    "    df[\"negative\"] = negative_scores\n",
    "    df[\"neutral\"] = neutral_scores\n",
    "    df[\"labels\"] = final_labels\n",
    "\n",
    "    df.to_csv(filename, index=False)"
   ]
  },
  {
   "cell_type": "code",
   "execution_count": 32,
   "id": "da437de4-8dee-41f7-a2b6-53596b44dbdb",
   "metadata": {},
   "outputs": [
    {
     "name": "stdout",
     "output_type": "stream",
     "text": [
      "[{'label': 'positive', 'score': 0.8715260028839111}, {'label': 'neutral', 'score': 0.09827440232038498}, {'label': 'negative', 'score': 0.030199550092220306}]\n",
      "positive\n"
     ]
    }
   ],
   "source": [
    "out = classifier(\"STOCK IS RISING FAST\", top_k=None)\n",
    "print(out)\n",
    "print(max(out, key=lambda x: x['score'])['label'])"
   ]
  },
  {
   "cell_type": "markdown",
   "id": "5334d2ed-1998-47a7-9834-17139d2262d5",
   "metadata": {
    "tags": []
   },
   "source": [
    "## Analyzing News Headlines"
   ]
  },
  {
   "cell_type": "code",
   "execution_count": 3,
   "id": "407c087e-55bf-4520-941d-257dd8e528de",
   "metadata": {},
   "outputs": [],
   "source": [
    "## Loading csv\n",
    "news_df = pd.read_csv('nvda_news_headlines.csv')"
   ]
  },
  {
   "cell_type": "code",
   "execution_count": 26,
   "id": "726629e3-f82d-4478-ad5e-618122f114af",
   "metadata": {},
   "outputs": [
    {
     "name": "stdout",
     "output_type": "stream",
     "text": [
      "6266\n"
     ]
    }
   ],
   "source": [
    "## Getting sentiments\n",
    "news_output = classifier(news_df[\"title\"].tolist(), top_k=None)"
   ]
  },
  {
   "cell_type": "code",
   "execution_count": 29,
   "id": "0682c20e-bb6a-4ac0-9d01-64a8481e7f40",
   "metadata": {},
   "outputs": [],
   "source": [
    "## Saving to csv\n",
    "save_labels(news_df, news_output, \"nvda_news_sentiment.csv\")"
   ]
  },
  {
   "cell_type": "markdown",
   "id": "4e864386-45e9-482b-a48f-2e5dc03f4e1d",
   "metadata": {},
   "source": [
    "## Analyzing StockTwits"
   ]
  },
  {
   "cell_type": "code",
   "execution_count": 25,
   "id": "a04bccd6-05ca-405b-be64-1f49317e5a68",
   "metadata": {},
   "outputs": [],
   "source": [
    "## Loading csv\n",
    "stocktwits_df = pd.read_csv('nvda_stocktwits.csv')\n",
    "stocktwits_dataset = Dataset.from_pandas(stocktwits_df)"
   ]
  },
  {
   "cell_type": "code",
   "execution_count": null,
   "id": "f76fcaf3-42c3-46ba-a56a-5d99563911fc",
   "metadata": {},
   "outputs": [],
   "source": [
    "## Getting sentiments\n",
    "stocktwits_output = []\n",
    "for out in tqdm(classifier(KeyDataset(stocktwits_dataset, \" text\"), batch_size=32, top_k=None), total=len(stocktwits_dataset)):\n",
    "    stocktwits_output.append(out)"
   ]
  },
  {
   "cell_type": "code",
   "execution_count": 19,
   "id": "7512dae3-3adb-4e73-b3b6-4cf958b4328e",
   "metadata": {},
   "outputs": [
    {
     "name": "stdout",
     "output_type": "stream",
     "text": [
      "399584\n"
     ]
    }
   ],
   "source": [
    "print(len(stocktwits_output))"
   ]
  },
  {
   "cell_type": "code",
   "execution_count": 22,
   "id": "7d9f4ceb-64f4-48cb-ba4a-306ffb5430e2",
   "metadata": {},
   "outputs": [],
   "source": [
    "save_labels(pd.DataFrame(), stocktwits_output, \"nvda_stocktwits_sentiment_temp.csv\")"
   ]
  },
  {
   "cell_type": "code",
   "execution_count": 23,
   "id": "677e0a46-075d-4af8-a0a8-6e18dda53361",
   "metadata": {},
   "outputs": [
    {
     "data": {
      "application/vnd.jupyter.widget-view+json": {
       "model_id": "d4a1377fb7694219ba10993144707039",
       "version_major": 2,
       "version_minor": 0
      },
      "text/plain": [
       "  0%|          | 0/184597 [00:00<?, ?it/s]"
      ]
     },
     "metadata": {},
     "output_type": "display_data"
    }
   ],
   "source": [
    "stocktwits_df = stocktwits_df.tail(184597)\n",
    "stocktwits_dataset = Dataset.from_pandas(stocktwits_df)\n",
    "for out in tqdm(classifier(KeyDataset(stocktwits_dataset, \" text\"), batch_size=32, top_k=None, truncation=True), total=len(stocktwits_dataset)):\n",
    "    stocktwits_output.append(out)"
   ]
  },
  {
   "cell_type": "code",
   "execution_count": 26,
   "id": "a206c019-0cd8-4803-b791-a16324d873ba",
   "metadata": {},
   "outputs": [
    {
     "name": "stdout",
     "output_type": "stream",
     "text": [
      "True\n"
     ]
    }
   ],
   "source": [
    "print(len(stocktwits_output) == len(stocktwits_df))"
   ]
  },
  {
   "cell_type": "code",
   "execution_count": 27,
   "id": "745e5856-f572-43e4-8836-5a77c0e7e524",
   "metadata": {},
   "outputs": [],
   "source": [
    "## Saving to csv\n",
    "save_labels(stocktwits_df, stocktwits_output, \"nvda_stocktwits_sentiment.csv\")"
   ]
  },
  {
   "cell_type": "code",
   "execution_count": null,
   "id": "fff07162-eb35-46e8-8f2a-09b072b97a74",
   "metadata": {},
   "outputs": [],
   "source": []
  }
 ],
 "metadata": {
  "kernelspec": {
   "display_name": "Python 3 (ipykernel)",
   "language": "python",
   "name": "python3"
  },
  "language_info": {
   "codemirror_mode": {
    "name": "ipython",
    "version": 3
   },
   "file_extension": ".py",
   "mimetype": "text/x-python",
   "name": "python",
   "nbconvert_exporter": "python",
   "pygments_lexer": "ipython3",
   "version": "3.9.7"
  },
  "toc-showcode": true,
  "toc-showtags": true
 },
 "nbformat": 4,
 "nbformat_minor": 5
}
